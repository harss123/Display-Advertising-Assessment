{
  "nbformat": 4,
  "nbformat_minor": 0,
  "metadata": {
    "colab": {
      "provenance": []
    },
    "kernelspec": {
      "name": "python3",
      "display_name": "Python 3"
    },
    "language_info": {
      "name": "python"
    }
  },
  "cells": [
    {
      "cell_type": "markdown",
      "source": [
        "# Marketing and customer analytics (MCAN) Group Assignment\n",
        "## Q4 Display Advertising Assessment\n",
        "## Group 9\n",
        "* Name | Email | PGID\n",
        "\n",
        "\n",
        "---\n",
        "\n",
        "\n",
        "* Pradeep Kara | Pradeep_Kara_ampba2025S@isb.edu |  12410055\n",
        "* Siddhesh Vanikar | Siddhesh_Vanikar_ampba2025S@isb.edu |  12410069\n",
        "* Himanshu Dubey | Himanshu_Dubey_ampba2025S@isb.edu | 12410051\n",
        "* Anagh Mahajan | Anagh_Mahajan_ampba2025S@isb.edu | 12410067"
      ],
      "metadata": {
        "id": "9SVNPud5YxtG"
      }
    },
    {
      "cell_type": "code",
      "execution_count": 12,
      "metadata": {
        "id": "S4NGcr363z-C"
      },
      "outputs": [],
      "source": [
        "!pip install openpyxl\n",
        "import pandas as pd\n",
        "import numpy as np\n",
        "from scipy.stats import beta, t"
      ]
    },
    {
      "cell_type": "code",
      "source": [
        "!git clone https://github.com/harss123/Display-Advertising-Assessment.git"
      ],
      "metadata": {
        "id": "Ld95soL3YPyc",
        "outputId": "a86d9d97-1518-4be2-9ab2-f2695998a9e4",
        "colab": {
          "base_uri": "https://localhost:8080/"
        }
      },
      "execution_count": 7,
      "outputs": [
        {
          "output_type": "stream",
          "name": "stdout",
          "text": [
            "fatal: destination path 'Display-Advertising-Assessment' already exists and is not an empty directory.\n"
          ]
        }
      ]
    },
    {
      "cell_type": "code",
      "source": [
        "# Load data directly from GitHub raw links\n",
        "clicks_url = \"https://raw.githubusercontent.com/harss123/Display-Advertising-Assessment/main/clicks.dataset.2.xlsx\"\n",
        "volumes_url = \"https://raw.githubusercontent.com/harss123/Display-Advertising-Assessment/main/volumes.dataset.2.xlsx\"\n"
      ],
      "metadata": {
        "id": "PrjkXwTzvAY7"
      },
      "execution_count": 26,
      "outputs": []
    },
    {
      "cell_type": "code",
      "source": [
        "clicks_df = pd.read_excel(clicks_url, header=None) # header=None to avoid using first row as header\n",
        "volumes_df = pd.read_excel(volumes_url)"
      ],
      "metadata": {
        "id": "zLcsKcLkvHNf"
      },
      "execution_count": 27,
      "outputs": []
    },
    {
      "cell_type": "code",
      "source": [
        "# Set column names for clicks_df\n",
        "clicks_df.columns = ['metric'] + [str(i) for i in range(1, 6)]  # assuming 5 ad campaigns"
      ],
      "metadata": {
        "id": "sOfZMKVUvQ-K"
      },
      "execution_count": 28,
      "outputs": []
    },
    {
      "cell_type": "code",
      "source": [
        "# Extract click data\n",
        "clicks = clicks_df.loc[0, '1':'5'].astype(int).values\n",
        "exposures = clicks_df.loc[1, '1':'5'].astype(int).values"
      ],
      "metadata": {
        "id": "C0u7FfsVvSRs"
      },
      "execution_count": 29,
      "outputs": []
    },
    {
      "cell_type": "code",
      "source": [
        "# Compute alpha and beta for Beta distribution (CTR)\n",
        "alpha = clicks + 1\n",
        "beta_params = exposures - clicks + 1"
      ],
      "metadata": {
        "id": "09IftYfPvXq9"
      },
      "execution_count": 30,
      "outputs": []
    },
    {
      "cell_type": "code",
      "source": [
        "# Number of simulations\n",
        "n_sim = 100000"
      ],
      "metadata": {
        "id": "UgS-umMXvbR8"
      },
      "execution_count": 31,
      "outputs": []
    },
    {
      "cell_type": "code",
      "source": [
        "# Simulate CTR draws\n",
        "ctr_draws = np.array([\n",
        "    beta.rvs(a=a, b=b, size=n_sim)\n",
        "    for a, b in zip(alpha, beta_params)\n",
        "])"
      ],
      "metadata": {
        "id": "aK-U6tU6veLw"
      },
      "execution_count": 32,
      "outputs": []
    },
    {
      "cell_type": "code",
      "source": [
        "# Compute posterior probability of highest CTR\n",
        "ctr_highest_probs = np.mean(ctr_draws.argmax(axis=0) == np.arange(5)[:, None], axis=1)\n"
      ],
      "metadata": {
        "id": "thVUC3rvvi-w"
      },
      "execution_count": 33,
      "outputs": []
    },
    {
      "cell_type": "code",
      "source": [
        "# Post-click volume stats\n",
        "volume_stats = volumes_df.groupby(\"ad\")[\"volume\"].agg(['mean', 'std', 'count']).reindex([1, 2, 3, 4, 5])\n",
        "means = volume_stats['mean'].values\n",
        "stds = volume_stats['std'].values\n",
        "counts = volume_stats['count'].values\n",
        "dfs = counts - 1\n",
        "ses = stds / np.sqrt(counts)"
      ],
      "metadata": {
        "id": "mSLvZ5yxvodm"
      },
      "execution_count": 34,
      "outputs": []
    },
    {
      "cell_type": "code",
      "source": [
        "# Simulate post-click volume draws from t-distribution\n",
        "volume_draws = np.array([\n",
        "    t.rvs(df=df, size=n_sim) * se + mean\n",
        "    for df, se, mean in zip(dfs, ses, means)\n",
        "])"
      ],
      "metadata": {
        "id": "TbDxWRDMvrNV"
      },
      "execution_count": 35,
      "outputs": []
    },
    {
      "cell_type": "code",
      "source": [
        "# Compute posterior probability of highest volume\n",
        "volume_highest_probs = np.mean(volume_draws.argmax(axis=0) == np.arange(5)[:, None], axis=1)\n"
      ],
      "metadata": {
        "id": "X7Bl_yjSvv_U"
      },
      "execution_count": 36,
      "outputs": []
    },
    {
      "cell_type": "code",
      "source": [
        "# Compute EVI draws (CTR * volume)\n",
        "evi_draws = ctr_draws * volume_draws"
      ],
      "metadata": {
        "id": "0Fk2eAiAv0x-"
      },
      "execution_count": 37,
      "outputs": []
    },
    {
      "cell_type": "code",
      "source": [
        "# Compute posterior probability of highest EVI\n",
        "evi_highest_probs = np.mean(evi_draws.argmax(axis=0) == np.arange(5)[:, None], axis=1)"
      ],
      "metadata": {
        "id": "-SOT1Awdv2dw"
      },
      "execution_count": 38,
      "outputs": []
    },
    {
      "cell_type": "code",
      "source": [
        "# Output results\n",
        "for i in range(5):\n",
        "    print(f\"Ad {i+1}:\")\n",
        "    print(f\"  P(highest CTR) = {ctr_highest_probs[i]:.4f}\")\n",
        "    print(f\"  P(highest Volume) = {volume_highest_probs[i]:.4f}\")\n",
        "    print(f\"  P(highest EVI) = {evi_highest_probs[i]:.4f}\\n\")"
      ],
      "metadata": {
        "id": "_Xu6Of01sXUz",
        "outputId": "a4be1121-96f2-4e0b-bdbd-b9c96bc83b57",
        "colab": {
          "base_uri": "https://localhost:8080/"
        }
      },
      "execution_count": 39,
      "outputs": [
        {
          "output_type": "stream",
          "name": "stdout",
          "text": [
            "Ad 1:\n",
            "  P(highest CTR) = 0.0014\n",
            "  P(highest Volume) = 0.0000\n",
            "  P(highest EVI) = 0.0000\n",
            "\n",
            "Ad 2:\n",
            "  P(highest CTR) = 0.0276\n",
            "  P(highest Volume) = 0.0000\n",
            "  P(highest EVI) = 0.0067\n",
            "\n",
            "Ad 3:\n",
            "  P(highest CTR) = 0.0202\n",
            "  P(highest Volume) = 0.0000\n",
            "  P(highest EVI) = 0.0007\n",
            "\n",
            "Ad 4:\n",
            "  P(highest CTR) = 0.0803\n",
            "  P(highest Volume) = 0.0000\n",
            "  P(highest EVI) = 0.0080\n",
            "\n",
            "Ad 5:\n",
            "  P(highest CTR) = 0.8704\n",
            "  P(highest Volume) = 1.0000\n",
            "  P(highest EVI) = 0.9846\n",
            "\n"
          ]
        }
      ]
    }
  ]
}